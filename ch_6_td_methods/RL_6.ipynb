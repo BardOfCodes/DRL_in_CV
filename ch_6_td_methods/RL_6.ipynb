{
 "cells": [
  {
   "cell_type": "markdown",
   "metadata": {
    "slideshow": {
     "slide_type": "slide"
    }
   },
   "source": [
    "# <center>Temporal Difference Learning</center>\n",
    "\n",
    "### <center> Reference: Chapter 6, Sutton and Barto </center> "
   ]
  },
  {
   "cell_type": "markdown",
   "metadata": {
    "slideshow": {
     "slide_type": "slide"
    }
   },
   "source": [
    "# <center>Contents</center>\n"
   ]
  },
  {
   "cell_type": "markdown",
   "metadata": {
    "slideshow": {
     "slide_type": "fragment"
    }
   },
   "source": [
    "* Introduction to Temporal Difference methods."
   ]
  },
  {
   "cell_type": "markdown",
   "metadata": {
    "slideshow": {
     "slide_type": "fragment"
    }
   },
   "source": [
    "* Properties of Temporal Difference Methods"
   ]
  },
  {
   "cell_type": "markdown",
   "metadata": {
    "slideshow": {
     "slide_type": "fragment"
    }
   },
   "source": [
    "* One-step, tabular, modelfree TD methods\n",
    "  * SARSA\n",
    "  * Q-learning\n",
    "  * Expected SARSA\n",
    "  * Double Q- learning"
   ]
  },
  {
   "cell_type": "markdown",
   "metadata": {
    "slideshow": {
     "slide_type": "slide"
    }
   },
   "source": [
    "# <center>Temporal Difference</center>\n"
   ]
  },
  {
   "cell_type": "markdown",
   "metadata": {
    "slideshow": {
     "slide_type": "fragment"
    }
   },
   "source": [
    "\n",
    "* One of the central and most novel Ideas in Reinforcement learning.\n",
    "* A one line Explaination is: In temporal Difference we improve Guesses towards Guesses before reaching terminal states."
   ]
  },
  {
   "cell_type": "markdown",
   "metadata": {
    "slideshow": {
     "slide_type": "subslide"
    }
   },
   "source": [
    "## Monte Carlo Methods\n"
   ]
  },
  {
   "cell_type": "markdown",
   "metadata": {
    "slideshow": {
     "slide_type": "fragment"
    }
   },
   "source": [
    "\n",
    "Roughly speaking, Monte Carlo methods wait until the return following the visit is known, then use that return as a target for $V(S_t)$.\n"
   ]
  },
  {
   "cell_type": "markdown",
   "metadata": {
    "slideshow": {
     "slide_type": "fragment"
    }
   },
   "source": [
    "\n",
    "#### Constant $\\alpha$ MC\n",
    "\n",
    "$$\n",
    "V(S_t) = V(S_t) + \\alpha\\big[ G_t - V(S_t) \\big]\n",
    "$$\n"
   ]
  },
  {
   "cell_type": "markdown",
   "metadata": {
    "slideshow": {
     "slide_type": "fragment"
    }
   },
   "source": [
    "\n",
    "* $G_t$ is the actual return following time t,\n",
    "* $\\alpha$ is a constant step-size parameter."
   ]
  },
  {
   "cell_type": "markdown",
   "metadata": {
    "slideshow": {
     "slide_type": "subslide"
    }
   },
   "source": [
    "## Monte Carlo Backup\n",
    "\n",
    "<center><img src=\"img/MCback.JPG\" alt=\"Multi-armed Bandit\" style=\"width: 700px;\"/></center>"
   ]
  },
  {
   "cell_type": "markdown",
   "metadata": {
    "slideshow": {
     "slide_type": "subslide"
    }
   },
   "source": [
    "## DP methods\n"
   ]
  },
  {
   "cell_type": "markdown",
   "metadata": {
    "slideshow": {
     "slide_type": "fragment"
    }
   },
   "source": [
    "\n",
    "Although DP methods update at every iteration, they use a model of the environment for the update. Basically they use, $p(s',r|s,a)$, the transition probability values.\n"
   ]
  },
  {
   "cell_type": "markdown",
   "metadata": {
    "slideshow": {
     "slide_type": "fragment"
    }
   },
   "source": [
    "\n",
    "#### Iterative policy evaluation in DP\n",
    "$$\n",
    "V (s) = \\sum_{a}\\pi(a|s) \\sum_{s',r}{p(s',r|s,a)\\big[ r+\\gamma V(s') \\big]}\n",
    "$$"
   ]
  },
  {
   "cell_type": "markdown",
   "metadata": {
    "slideshow": {
     "slide_type": "subslide"
    }
   },
   "source": [
    "## DP backup\n",
    "\n",
    "<center><img src=\"img/DPback.JPG\" alt=\"Multi-armed Bandit\" style=\"width: 700px;\"/></center>"
   ]
  },
  {
   "cell_type": "markdown",
   "metadata": {
    "slideshow": {
     "slide_type": "subslide"
    }
   },
   "source": [
    "## Temporal Difference Prediction\n"
   ]
  },
  {
   "cell_type": "markdown",
   "metadata": {
    "slideshow": {
     "slide_type": "fragment"
    }
   },
   "source": [
    "\n",
    "TD methods need wait only until the next time step.\n"
   ]
  },
  {
   "cell_type": "markdown",
   "metadata": {
    "slideshow": {
     "slide_type": "fragment"
    }
   },
   "source": [
    "\n",
    "#### TD(0)\n",
    "\n",
    "$$\n",
    "V(S_t) = V(S_t) + \\alpha\\big[ R_{t+1} +\\gamma V(S_{t+1})- V(S_t) \\big]\n",
    "$$\n"
   ]
  },
  {
   "cell_type": "markdown",
   "metadata": {
    "slideshow": {
     "slide_type": "fragment"
    }
   },
   "source": [
    "\n",
    "* target for the Monte Carlo update is $G_t$, whereas the target for the TD update is $R_{t+1} + \\gamma V(S_{t+1})$.\n",
    "* Because the TD method bases its update in part on an existing estimate, we say that it is a bootstrapping method, like DP.\n"
   ]
  },
  {
   "cell_type": "markdown",
   "metadata": {
    "slideshow": {
     "slide_type": "subslide"
    }
   },
   "source": [
    "## TD Backup\n",
    "\n",
    "<center><img src=\"img/TDback.JPG\" alt=\"Multi-armed Bandit\" style=\"width: 700px;\"/></center>"
   ]
  },
  {
   "cell_type": "markdown",
   "metadata": {
    "slideshow": {
     "slide_type": "slide"
    }
   },
   "source": [
    "#### Monte Carlo Backup\n",
    "\n",
    "<center><img src=\"img/MCback.JPG\" alt=\"Multi-armed Bandit\" style=\"width: 200px;\"/></center>\n",
    "\n",
    "#### DP backup\n",
    "\n",
    "<center><img src=\"img/DPback.JPG\" alt=\"Multi-armed Bandit\" style=\"width: 200px;\"/></center>\n",
    "\n",
    "#### TD Backup\n",
    "\n",
    "<center><img src=\"img/TDback.JPG\" alt=\"Multi-armed Bandit\" style=\"width: 200px;\"/></center>"
   ]
  },
  {
   "cell_type": "markdown",
   "metadata": {
    "slideshow": {
     "slide_type": "subslide"
    }
   },
   "source": [
    "\n",
    "<center><img src=\"img/bootsam.JPG\" alt=\"Multi-armed Bandit\" style=\"width: 700px;\"/></center>"
   ]
  },
  {
   "cell_type": "markdown",
   "metadata": {
    "slideshow": {
     "slide_type": "subslide"
    }
   },
   "source": [
    "###  <center>$ v_\\pi (s) = E_\\pi[G_t | S_t=s] = E_\\pi[R_{t+1} + \\gamma v_\\pi(S_{t+1})| S_t = s]$</center>\n"
   ]
  },
  {
   "cell_type": "markdown",
   "metadata": {
    "slideshow": {
     "slide_type": "fragment"
    }
   },
   "source": [
    "\n",
    "* Monte Carlo methods use an estimate of the first as a target,\n",
    "* DP methods use an estimate of second as a target."
   ]
  },
  {
   "cell_type": "markdown",
   "metadata": {
    "slideshow": {
     "slide_type": "subslide"
    }
   },
   "source": [
    "## Example\n"
   ]
  },
  {
   "cell_type": "markdown",
   "metadata": {
    "slideshow": {
     "slide_type": "fragment"
    }
   },
   "source": [
    "\n",
    "<center><img src=\"img/TDex1.JPG\" alt=\"Multi-armed Bandit\" style=\"width: 700px;\"/></center>\n"
   ]
  },
  {
   "cell_type": "markdown",
   "metadata": {
    "slideshow": {
     "slide_type": "subslide"
    }
   },
   "source": [
    "\n",
    "<center><img src=\"img/tdex2.JPG\" alt=\"Multi-armed Bandit\" style=\"width: 700px;\"/></center>\n"
   ]
  },
  {
   "cell_type": "markdown",
   "metadata": {
    "slideshow": {
     "slide_type": "subslide"
    }
   },
   "source": [
    "### Tabular TD for estimating $v_\\pi$\n",
    "\n",
    "**Input**: the policy $\\pi$ to be evaluated<br>\n",
    "**Initialize** $V(s)$ arbitrarily (e.g., $V(s) = 0, \\forall s \\in S_+$)<br>\n",
    "**Repeat** (for each episode):<br>\n",
    "$\\quad$Initialize $S$<br>\n",
    "$\\quad$Repeat (for each step of episode):<br>\n",
    "$\\quad$$\\quad$ $A =$ action given by $\\pi$ for $S$<br>\n",
    "$\\quad$$\\quad$Take action $A$, observe $R, S'$<br>\n",
    "$\\quad$$\\quad V (S) = V (S) + \\alpha\\big[R + \\gamma V (S') − V (S)\\big]$<br>\n",
    "$\\quad$$\\quad$S = S'<br>\n",
    "$\\quad$until S is terminal"
   ]
  },
  {
   "cell_type": "markdown",
   "metadata": {
    "slideshow": {
     "slide_type": "subslide"
    }
   },
   "source": [
    "### TD error\n",
    "$ \\delta_t = R_{t+1} + \\gamma V (S_{t+1}) − V (S_t)$\n",
    "\n",
    "### Monte carlo error\n",
    "$G_t - V(S_t) = \\sum^{T-t-1}_{k=0}{\\delta_{t+k}}$"
   ]
  },
  {
   "cell_type": "markdown",
   "metadata": {
    "slideshow": {
     "slide_type": "slide"
    }
   },
   "source": [
    "# <center>Properties of Temporal Difference Methods</center>"
   ]
  },
  {
   "cell_type": "markdown",
   "metadata": {
    "slideshow": {
     "slide_type": "subslide"
    }
   },
   "source": [
    "## Advantage of TD Methods\n"
   ]
  },
  {
   "cell_type": "markdown",
   "metadata": {
    "slideshow": {
     "slide_type": "fragment"
    }
   },
   "source": [
    "* Compared to DP methods, they do not require model of the environment, its rewards, and next state probability distribubtion."
   ]
  },
  {
   "cell_type": "markdown",
   "metadata": {
    "slideshow": {
     "slide_type": "fragment"
    }
   },
   "source": [
    "* Compared to Monte Carlo methods, they are naturally implemented in an on-line, fully incremental fashion."
   ]
  },
  {
   "cell_type": "markdown",
   "metadata": {
    "slideshow": {
     "slide_type": "fragment"
    }
   },
   "source": [
    "* Compared to Monte Carlo methods, TD can learn from incomplete sequences, can works in continuing (non-terminating) environments."
   ]
  },
  {
   "cell_type": "markdown",
   "metadata": {
    "slideshow": {
     "slide_type": "fragment"
    }
   },
   "source": [
    "\n",
    "** Some important points **\n"
   ]
  },
  {
   "cell_type": "markdown",
   "metadata": {
    "slideshow": {
     "slide_type": "fragment"
    }
   },
   "source": [
    "* TD target $R_{t+1} + \\gamma V(S_{t+1})$ is biased estimate of $v_\\pi(S_t)$ "
   ]
  },
  {
   "cell_type": "markdown",
   "metadata": {
    "slideshow": {
     "slide_type": "fragment"
    }
   },
   "source": [
    "* TD target has much lower variance than the MC target(returns $G_t$)"
   ]
  },
  {
   "cell_type": "markdown",
   "metadata": {
    "slideshow": {
     "slide_type": "fragment"
    }
   },
   "source": [
    "* For any fixed policy $\\pi$, the TD algorithm has been proved to converge to $v_\\pi$."
   ]
  },
  {
   "cell_type": "markdown",
   "metadata": {
    "slideshow": {
     "slide_type": "fragment"
    }
   },
   "source": [
    "* Which method learns faster? Which makes the more efficient use of limited data? Not answered yet. Its an open question."
   ]
  },
  {
   "cell_type": "markdown",
   "metadata": {
    "slideshow": {
     "slide_type": "subslide"
    }
   },
   "source": [
    "### Batch Update\n",
    "\n",
    "Suppose you have a fixed number of episodes, \n"
   ]
  },
  {
   "cell_type": "markdown",
   "metadata": {
    "slideshow": {
     "slide_type": "fragment"
    }
   },
   "source": [
    "\n",
    "* Given an approximate value function, V , we calculate the increments for every time step $t$ at which a non-terminal state is visited, but the value function is changed only once, by the sum of all the increments."
   ]
  },
  {
   "cell_type": "markdown",
   "metadata": {
    "slideshow": {
     "slide_type": "fragment"
    }
   },
   "source": [
    "\n",
    "* Then all the available experience is processed again with the new value function to produce a new overall increment, and so on, until the value function converges. "
   ]
  },
  {
   "cell_type": "markdown",
   "metadata": {
    "slideshow": {
     "slide_type": "fragment"
    }
   },
   "source": [
    "\n",
    "* We call this **batch updating** because updates are made only after processing each complete batch of training data."
   ]
  },
  {
   "cell_type": "markdown",
   "metadata": {
    "slideshow": {
     "slide_type": "subslide"
    }
   },
   "source": [
    "## <center>Batch Monte Carlo methods always find the estimates that minimize mean-squared error on the training set, </center>\n"
   ]
  },
  {
   "cell_type": "markdown",
   "metadata": {
    "slideshow": {
     "slide_type": "fragment"
    }
   },
   "source": [
    "\n",
    "## <center> Whereas batch TD(0) always finds the estimates that would be exactly correct for the maximum-likelihood model of the Markov process.</center>\n"
   ]
  },
  {
   "cell_type": "markdown",
   "metadata": {
    "slideshow": {
     "slide_type": "fragment"
    }
   },
   "source": [
    "\n",
    "### <center> Batch TD(0) converges to the certainty-equivalence estimate.</center> <center> Non-Batch methods can be understood as moving roughly in these directions.</center>"
   ]
  },
  {
   "cell_type": "markdown",
   "metadata": {
    "slideshow": {
     "slide_type": "subslide"
    }
   },
   "source": [
    "## Example\n",
    "\n",
    "The following episodes are observed:\n",
    "\n",
    "1) A, 0, B, 0 <br>\n",
    "2) B, 1<br>\n",
    "3) B, 1 <br>\n",
    "4) B, 1<br>\n",
    "5) B, 1 <br>\n",
    "6) B, 1<br>\n",
    "7) B, 1 <br>\n",
    "8) B, 0<br>\n"
   ]
  },
  {
   "cell_type": "markdown",
   "metadata": {
    "slideshow": {
     "slide_type": "fragment"
    }
   },
   "source": [
    "\n",
    "Given this batch of data, what would you say are the optimal predictions, the best values for the estimates $V (A)$ and $V (B)$?"
   ]
  },
  {
   "cell_type": "markdown",
   "metadata": {
    "slideshow": {
     "slide_type": "subslide"
    }
   },
   "source": [
    "* Clearly, Optimal Value of B is the optimal value for $V (B)$ is $3/4$,\n"
   ]
  },
  {
   "cell_type": "markdown",
   "metadata": {
    "slideshow": {
     "slide_type": "fragment"
    }
   },
   "source": [
    "\n",
    "* But $V(A)$? Two reasonable answers:\n",
    "  "
   ]
  },
  {
   "cell_type": "markdown",
   "metadata": {
    "slideshow": {
     "slide_type": "fragment"
    }
   },
   "source": [
    "\n",
    "  * 100% of the times the process was in state A it traversed immediately to B. With no disconting, $V(A)=V(B)$."
   ]
  },
  {
   "cell_type": "markdown",
   "metadata": {
    "slideshow": {
     "slide_type": "fragment"
    }
   },
   "source": [
    "\n",
    "  * We have seen A once and the return that followed it was 0; we therefore estimate $V (A)$ as 0."
   ]
  },
  {
   "cell_type": "markdown",
   "metadata": {
    "slideshow": {
     "slide_type": "fragment"
    }
   },
   "source": [
    "\n",
    "Now, which estimate does TD(0) make and which one does $\\alpha-MC$ make?\n",
    "  "
   ]
  },
  {
   "cell_type": "markdown",
   "metadata": {
    "slideshow": {
     "slide_type": "subslide"
    }
   },
   "source": [
    "If the process is seen as an instance of the following markov process:\n",
    "\n",
    "<center><img src=\"img/tdmarkov.JPG\" alt=\"Multi-armed Bandit\" style=\"width: 200px;\"/></center>\n"
   ]
  },
  {
   "cell_type": "markdown",
   "metadata": {
    "slideshow": {
     "slide_type": "fragment"
    }
   },
   "source": [
    "\n",
    "The First solution is right. This is the estimate that TD(0) makes. \n"
   ]
  },
  {
   "cell_type": "markdown",
   "metadata": {
    "slideshow": {
     "slide_type": "fragment"
    }
   },
   "source": [
    "\n",
    "**If the process is Markov, we expect that the first answer will produce lower error on future data, even though the Monte Carlo answer is better on the existing data.**"
   ]
  },
  {
   "cell_type": "markdown",
   "metadata": {
    "slideshow": {
     "slide_type": "slide"
    }
   },
   "source": [
    "# <center>One-step, tabular, modelfree TD methods</center>"
   ]
  },
  {
   "cell_type": "markdown",
   "metadata": {
    "slideshow": {
     "slide_type": "slide"
    }
   },
   "source": [
    "# <center>Sarsa: On-Policy TD Control</center>\n",
    "\n",
    "First, we estimate $q_\\pi (s,a)$ instead of $v(s)$. The TD(0) equation for that would be\n"
   ]
  },
  {
   "cell_type": "markdown",
   "metadata": {
    "slideshow": {
     "slide_type": "fragment"
    }
   },
   "source": [
    "\n",
    "$$\n",
    "Q(S_t, A_t) = Q(S_t, A_t) + \\alpha \\big[ R_{t+1} + \\gamma Q(S_{t+1}, A_{t+1}) − Q(S_t, A_t) \\big] \n",
    "$$\n"
   ]
  },
  {
   "cell_type": "markdown",
   "metadata": {
    "slideshow": {
     "slide_type": "fragment"
    }
   },
   "source": [
    "\n",
    "(update is done after every transition from a nonterminal state $S_t$)."
   ]
  },
  {
   "cell_type": "markdown",
   "metadata": {
    "slideshow": {
     "slide_type": "fragment"
    }
   },
   "source": [
    "This rule uses every element of the quintuple of events, $(S_t, A_t, R_{t+1}, S_{t+1}, A_{t+1}), that make up a transition from one state–action pair to the next.\n",
    "\n",
    "Hence this algorithm is named **Sarsa**."
   ]
  },
  {
   "cell_type": "markdown",
   "metadata": {
    "slideshow": {
     "slide_type": "subslide"
    }
   },
   "source": [
    "## Sarsa: An on-policy TD control algorithm\n",
    "\n",
    "**Initialize** $Q(s, a), \\forall s \\in S, a \\in A(s)$, arbitrarily, and $Q($terminal-state$, ·) = 0$<br>\n",
    "**Repeat** (for each episode):<br>\n",
    "$\\quad$Initialize $S$<br>\n",
    "$\\quad$Choose $A$ from $S$ using policy derived from $Q$ (e.g., $\\epsilon$-greedy)<br>\n",
    "$\\quad$**Repeat** (for each step of episode):<br>\n",
    "$\\quad \\quad$ Take action $A$, observe $R, S'$<br>\n",
    "$\\quad \\quad$ Choose $A'$ from $S'$ using policy derived from $Q$ (e.g., $\\epsilon$-greedy)<br>\n",
    "$\\quad \\quad$ $Q(S, A) = Q(S, A) + \\alpha \\big[ R + \\gamma Q(S', A') − Q(S, A) \\big] $ <br>\n",
    "$\\quad \\quad$ $S = S'; A = A';$<br>\n",
    "$\\quad$ until $S$ is terminal\n"
   ]
  },
  {
   "cell_type": "markdown",
   "metadata": {
    "slideshow": {
     "slide_type": "slide"
    }
   },
   "source": [
    "# <center>Q-learning: Off-Policy TD Control</center>\n",
    "\n",
    "As in value-iteration, we take the  $Q(S', A')$, corresponding to the maximum from all possible action, instead of the actual action A' taken.\n"
   ]
  },
  {
   "cell_type": "markdown",
   "metadata": {
    "slideshow": {
     "slide_type": "fragment"
    }
   },
   "source": [
    "\n",
    "$$\n",
    "Q(S_t, A_t) = Q(S_t, A_t) + \\alpha \\big[ R_{t+1} + \\gamma {max}_a Q(S_{t+1}, a) − Q(S_t, A_t) \\big] \n",
    "$$\n"
   ]
  },
  {
   "cell_type": "markdown",
   "metadata": {
    "slideshow": {
     "slide_type": "fragment"
    }
   },
   "source": [
    "\n",
    "** The learned action-value function, $Q$, directly approximates $q∗$, the optimal action-value function, independent of the policy being followed**.\n"
   ]
  },
  {
   "cell_type": "markdown",
   "metadata": {
    "slideshow": {
     "slide_type": "fragment"
    }
   },
   "source": [
    "\n",
    "#### Back up diagram\n",
    "\n",
    "<center><img src=\"img/backup_q.JPG\" alt=\"Multi-armed Bandit\" style=\"width: 200px;\"/></center>"
   ]
  },
  {
   "cell_type": "markdown",
   "metadata": {
    "slideshow": {
     "slide_type": "subslide"
    }
   },
   "source": [
    "## Q-learning: An off-policy TD control algorithm\n",
    "\n",
    "**Initialize** $Q(s, a), \\forall s \\in S, a \\in A(s)$, arbitrarily, and $Q($terminal-state$, ·) = 0$<br>\n",
    "**Repeat** (for each episode):<br>\n",
    "$\\quad$Initialize $S$<br>\n",
    "$\\quad$**Repeat** (for each step of episode):<br>\n",
    "$\\quad \\quad$ Choose $A$ from $S$ using policy derived from $Q$ (e.g., $\\epsilon$-greedy)<br>\n",
    "$\\quad \\quad$ Take action $A$, observe $R, S'$<br>\n",
    "$\\quad \\quad$ $Q(S, A) = Q(S, A) + \\alpha \\big[ R +\\gamma {max}_a Q(S', a) − Q(S, A) \\big] $ <br>\n",
    "$\\quad \\quad$ $S = S';$<br>\n",
    "$\\quad$ until $S$ is terminal"
   ]
  },
  {
   "cell_type": "markdown",
   "metadata": {
    "slideshow": {
     "slide_type": "subslide"
    }
   },
   "source": [
    "## Example : Cliff Walking\n",
    "\n",
    "<center><img src=\"img/cliff.JPG\" alt=\"Multi-armed Bandit\" style=\"width: 600px;\"/></center>\n"
   ]
  },
  {
   "cell_type": "markdown",
   "metadata": {
    "slideshow": {
     "slide_type": "fragment"
    }
   },
   "source": [
    "* A standard undiscounted, episodic task, with start and goal states, "
   ]
  },
  {
   "cell_type": "markdown",
   "metadata": {
    "slideshow": {
     "slide_type": "fragment"
    }
   },
   "source": [
    "* the usual actions causing movement up, down, right, and left. "
   ]
  },
  {
   "cell_type": "markdown",
   "metadata": {
    "slideshow": {
     "slide_type": "fragment"
    }
   },
   "source": [
    "\n",
    "* Reward is −1 on all transitions except those into the region marked “The Cliff.” "
   ]
  },
  {
   "cell_type": "markdown",
   "metadata": {
    "slideshow": {
     "slide_type": "fragment"
    }
   },
   "source": [
    "* Stepping into this region incurs a reward of −100 and sends the agent instantly back to the start."
   ]
  },
  {
   "cell_type": "markdown",
   "metadata": {
    "slideshow": {
     "slide_type": "subslide"
    }
   },
   "source": [
    "## Q-learning Vs Sarsa\n",
    "\n",
    "<center><img src=\"img/qvssarsa.JPG\" alt=\"Multi-armed Bandit\" style=\"width: 600px;\"/></center>\n"
   ]
  },
  {
   "cell_type": "markdown",
   "metadata": {
    "slideshow": {
     "slide_type": "fragment"
    }
   },
   "source": [
    "\n",
    "* Q-learning learns values for the optimal policy, that which travels right along the edge of the cliff. \n",
    "* Unfortunately, this results in its occasionally falling off the cliff because of the $\\epsilon$-greedy action selection. \n",
    "\n",
    "* Sarsa, takes the action selection into account and learns the longer but safer path through the upper part of the grid."
   ]
  },
  {
   "cell_type": "markdown",
   "metadata": {
    "slideshow": {
     "slide_type": "slide"
    }
   },
   "source": [
    "# <center>Expected Sarsa</center>\n",
    "\n",
    "Learning algorithm that is just like Q-learning except that instead of the maximum over next state–action pairs it uses the expected value, taking into account how likely each action is under the current policy.\n"
   ]
  },
  {
   "cell_type": "markdown",
   "metadata": {
    "slideshow": {
     "slide_type": "fragment"
    }
   },
   "source": [
    "\n",
    "$$\n",
    "Q(S_t, A_t) = Q(S_t, A_t) + \\alpha \\big[ R_{t+1} + \\gamma E(Q(S_{t+1}, A_{t+1}|S_{t+1}) − Q(S_t, A_t) \\big] \n",
    "$$\n",
    "\n",
    "$$\n",
    "Q(S_t, A_t) = Q(S_t, A_t) + \\alpha \\big[ R_{t+1} + \\gamma \\sum_{a}{\\pi(a|S_t+1)Q(S_{t+1},a)} − Q(S_t, A_t) \\big] \n",
    "$$\n"
   ]
  },
  {
   "cell_type": "markdown",
   "metadata": {
    "slideshow": {
     "slide_type": "fragment"
    }
   },
   "source": [
    "\n",
    "#### Back up diagram\n",
    "\n",
    "<center><img src=\"img/ex_sarsa.JPG\" alt=\"Multi-armed Bandit\" style=\"width: 200px;\"/></center>"
   ]
  },
  {
   "cell_type": "markdown",
   "metadata": {
    "slideshow": {
     "slide_type": "subslide"
    }
   },
   "source": [
    "## Important Points\n"
   ]
  },
  {
   "cell_type": "markdown",
   "metadata": {
    "slideshow": {
     "slide_type": "fragment"
    }
   },
   "source": [
    "* Expected Sarsa is more complex computationally than Sarsa but, in return, it eliminates the variance due to the random selection of $A_{t+1}$."
   ]
  },
  {
   "cell_type": "markdown",
   "metadata": {
    "slideshow": {
     "slide_type": "fragment"
    }
   },
   "source": [
    "* Expected Sarsa is stable on a wider range of step-size $\\alpha$ than Sarsa."
   ]
  },
  {
   "cell_type": "markdown",
   "metadata": {
    "slideshow": {
     "slide_type": "fragment"
    }
   },
   "source": [
    "* we can use a policy different from the target policy $\\pi$ to generate behavior, in which case Expected Sarsa becomes an off-policy algorithm"
   ]
  },
  {
   "cell_type": "markdown",
   "metadata": {
    "slideshow": {
     "slide_type": "fragment"
    }
   },
   "source": [
    "* Expected Sarsa may completely dominate both of the other more-well-known TD control algorithms"
   ]
  },
  {
   "cell_type": "markdown",
   "metadata": {
    "slideshow": {
     "slide_type": "slide"
    }
   },
   "source": [
    "# <center>Double Q Learning</center>\n"
   ]
  },
  {
   "cell_type": "markdown",
   "metadata": {
    "slideshow": {
     "slide_type": "fragment"
    }
   },
   "source": [
    "\n",
    "## Maximization Bias\n",
    "\n",
    "* All the control algorithms that we have discussed so far involve maximization in the construction of their target policies.\n",
    "* When maximum over estimated values is used implicitly as an estimate of the maximum value, it can lead to significant positive bias."
   ]
  },
  {
   "cell_type": "markdown",
   "metadata": {
    "slideshow": {
     "slide_type": "subslide"
    }
   },
   "source": [
    "## Example\n",
    "\n",
    "<center><img src=\"img/maxbias.JPG\" alt=\"Multi-armed Bandit\" style=\"width: 600px;\"/></center>\n"
   ]
  },
  {
   "cell_type": "markdown",
   "metadata": {
    "slideshow": {
     "slide_type": "fragment"
    }
   },
   "source": [
    "* The MDP has two non-terminal states A and B. \n",
    "* Episodes always start in A with a choice between two actions, **left** and **right**."
   ]
  },
  {
   "cell_type": "markdown",
   "metadata": {
    "slideshow": {
     "slide_type": "fragment"
    }
   },
   "source": [
    "* The right action transitions immediately to the terminal state with a reward and return of zero. \n",
    "* The left action transitions to B, also with a reward of zero, from which there are many possible actions."
   ]
  },
  {
   "cell_type": "markdown",
   "metadata": {
    "slideshow": {
     "slide_type": "fragment"
    }
   },
   "source": [
    "* All actions from B  cause immediate termination with a reward drawn from a normal distribution with mean $−0.1$ and variance $1.0$. \n",
    "* Thus, the expected return for any trajectory starting with left is $−0.1$, and thus taking left in state A is always a mistake."
   ]
  },
  {
   "cell_type": "markdown",
   "metadata": {
    "slideshow": {
     "slide_type": "fragment"
    }
   },
   "source": [
    "* **control methods may favor left because of maximization bias making B appear to have a positive value**."
   ]
  },
  {
   "cell_type": "markdown",
   "metadata": {
    "slideshow": {
     "slide_type": "subslide"
    }
   },
   "source": [
    "\n",
    "## How to avoid maximing bias?\n"
   ]
  },
  {
   "cell_type": "markdown",
   "metadata": {
    "slideshow": {
     "slide_type": "fragment"
    }
   },
   "source": [
    "* Consider a bandit case in which we have noisy estimates of the value of each of many actions, obtained as sample averages of the rewards received on all the plays with each action."
   ]
  },
  {
   "cell_type": "markdown",
   "metadata": {
    "slideshow": {
     "slide_type": "fragment"
    }
   },
   "source": [
    "* As we discussed above, there will be a positive maximization bias if we use the maximum of the estimates as an estimate of the maximum of the true values. "
   ]
  },
  {
   "cell_type": "markdown",
   "metadata": {
    "slideshow": {
     "slide_type": "fragment"
    }
   },
   "source": [
    "* One way to view the problem is that it is due to using the same samples (plays), both to determine the maximizing action and to estimate its value."
   ]
  },
  {
   "cell_type": "markdown",
   "metadata": {
    "slideshow": {
     "slide_type": "subslide"
    }
   },
   "source": [
    "* Suppose we divided the plays in two sets and used them to learn two independent estimates, call them $Q_1(a)$ and $Q_2(a)$, each an estimate of the true value $q(a)$, for all $a \\in A$.\n"
   ]
  },
  {
   "cell_type": "markdown",
   "metadata": {
    "slideshow": {
     "slide_type": "fragment"
    }
   },
   "source": [
    "* We could then use one estimate, say $Q_1$, to determine the maximizing action $A_∗ = argmax_a Q_1(a)$, and the other, $Q_2$, to provide the estimate of its value, $Q2(A_∗) = Q_2(argmax_a Q1(a))$."
   ]
  },
  {
   "cell_type": "markdown",
   "metadata": {
    "slideshow": {
     "slide_type": "fragment"
    }
   },
   "source": [
    "* This estimate will then be unbiased in the sense that $E[Q_2(A_∗)] = q(A_∗)$. "
   ]
  },
  {
   "cell_type": "markdown",
   "metadata": {
    "slideshow": {
     "slide_type": "fragment"
    }
   },
   "source": [
    "* We can also repeat the process with the role of the two estimates reversed to yield a second unbiased estimate $Q_1(argmax_a Q_2(a))$. "
   ]
  },
  {
   "cell_type": "markdown",
   "metadata": {
    "slideshow": {
     "slide_type": "subslide"
    }
   },
   "source": [
    "#### Important Points\n",
    "\n",
    "* Although we learn two estimates, only one estimate is updated on each play;\n",
    "* Doubled learning doubles the memory requirements, but is no increase at all in the amount of computation per step."
   ]
  },
  {
   "cell_type": "markdown",
   "metadata": {
    "slideshow": {
     "slide_type": "subslide"
    }
   },
   "source": [
    "## Double Q-learning algorithm\n",
    "\n",
    "**Initialize** $Q_1(s, a),Q_2(s, a), \\forall s \\in S, a \\in A(s)$, arbitrarily, \n",
    "**Initialize** $Q_1($terminal-state$, ·) = Q_2($terminal-state$, ·) = 0$<br>\n",
    "**Repeat** (for each episode):<br>\n",
    "$\\quad$Initialize $S$<br>\n",
    "$\\quad$**Repeat** (for each step of episode):<br>\n",
    "$\\quad \\quad$ Choose $A$ from $S$ using policy derived from $Q_1$ and $Q_2$ (e.g., $\\epsilon$-greedy in $Q_1+Q_2$)<br>\n",
    "$\\quad \\quad$ Take action $A$, observe $R, S'$<br>\n",
    "$\\quad \\quad$ With 0.5 probability: <br>\n",
    "$\\quad \\quad \\quad Q_1(S, A) = Q_1(S, A) + \\alpha \\big[ R +\\gamma Q_2(S',argmax_a Q_1(S',a)) − Q_1(S, A) \\big] $ <br>\n",
    "$\\quad \\quad$ Else: <br>\n",
    "$\\quad \\quad \\quad Q_2(S, A) = Q_2(S, A) + \\alpha \\big[ R +\\gamma Q_1(S',argmax_a Q_2(S',a)) − Q_2(S, A) \\big] $ <br>\n",
    "$\\quad \\quad$ $S = S';$<br>\n",
    "$\\quad$ until $S$ is terminal"
   ]
  },
  {
   "cell_type": "markdown",
   "metadata": {
    "slideshow": {
     "slide_type": "subslide"
    }
   },
   "source": [
    "## Double Q-learning vs Q-Learning\n",
    "\n",
    "<center><img src=\"img/doubleq.JPG\" alt=\"Multi-armed Bandit\" style=\"width: 800px;\"/></center>\n"
   ]
  }
 ],
 "metadata": {
  "anaconda-cloud": {},
  "celltoolbar": "Slideshow",
  "kernelspec": {
   "display_name": "Python [default]",
   "language": "python",
   "name": "python3"
  },
  "language_info": {
   "codemirror_mode": {
    "name": "ipython",
    "version": 3
   },
   "file_extension": ".py",
   "mimetype": "text/x-python",
   "name": "python",
   "nbconvert_exporter": "python",
   "pygments_lexer": "ipython3",
   "version": "3.5.2"
  },
  "widgets": {
   "state": {},
   "version": "1.1.2"
  }
 },
 "nbformat": 4,
 "nbformat_minor": 2
}
