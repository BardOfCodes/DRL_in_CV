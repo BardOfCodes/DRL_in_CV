{
 "cells": [
  {
   "cell_type": "markdown",
   "metadata": {},
   "source": [
    "# Monte-Carlo Methods\n",
    "\n",
    "### Reference: Chapter 5, Sutton and Barto\n",
    "\n",
    "## Contents:\n",
    "\n",
    "1) **Monte Carlo Prediction**\n",
    "\n",
    "2) **Monte Carlo Estimation of Action Values**\n",
    "\n",
    "3) **Monte Carlo Control**\n",
    "\n",
    "4) **Monte Carlo Control without Exploring Starts**\n",
    "\n",
    "5) **Off-policy Prediction via Importance Sampling**\n",
    "\n",
    "6) **Incremental Implementation**\n",
    "\n",
    "7) **Off-Policy Monte Carlo Control**\n",
    "\n",
    "8) **Return-Specific Importance Sampling**\n",
    "\n",
    "\n",
    "\n",
    "## Summary\n",
    "\n",
    "* Monte Carlo Approach\n",
    "\n",
    "* On-Policy Prediction\n",
    "\n",
    "* On-Policy Control (w/o Assumption: Exploring Starts)\n",
    "\n",
    "* Off-Policy Prediction\n",
    "\n",
    "* Off-Policy Control\n"
   ]
  }
 ],
 "metadata": {
  "kernelspec": {
   "display_name": "Python 2",
   "language": "python",
   "name": "python2"
  },
  "language_info": {
   "codemirror_mode": {
    "name": "ipython",
    "version": 2
   },
   "file_extension": ".py",
   "mimetype": "text/x-python",
   "name": "python",
   "nbconvert_exporter": "python",
   "pygments_lexer": "ipython2",
   "version": "2.7.12"
  }
 },
 "nbformat": 4,
 "nbformat_minor": 2
}
