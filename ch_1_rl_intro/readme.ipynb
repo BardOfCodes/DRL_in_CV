{
 "cells": [
  {
   "cell_type": "markdown",
   "metadata": {},
   "source": [
    "# Introduction to Reinforcement Learning"
   ]
  },
  {
   "cell_type": "markdown",
   "metadata": {},
   "source": [
    "### Reference: Chapter 1, Sutton and Barto"
   ]
  },
  {
   "cell_type": "markdown",
   "metadata": {},
   "source": [
    "## Contents:"
   ]
  },
  {
   "cell_type": "markdown",
   "metadata": {},
   "source": [
    "1) **RL: Formal Definition **\n",
    "* Recent Examples\n",
    "\n",
    "2) **RL vs Supervised Learning vs Unsupervised learning**\n",
    "\n",
    "3) **Important RL Perspectives**\n",
    "* Goal (Reward Hypothesis)\n",
    "* Sequential Decision Making Problem\n",
    "* Interaction between Agent and Environment\n",
    "\n",
    "4) **Components of RL Agent**\n",
    "* Policy\n",
    "* Value Function\n",
    "* Model\n",
    "\n",
    "5) **RL Problems: Learning and Planning**\n",
    "\n",
    "6) **Exploration vs Exploitation**\n",
    "\n",
    "7) **Prediction and Control**\n"
   ]
  },
  {
   "cell_type": "markdown",
   "metadata": {},
   "source": [
    "## Summary"
   ]
  },
  {
   "cell_type": "markdown",
   "metadata": {},
   "source": [
    "* We got introduced to the basic terminologies of RL.\n",
    "\n",
    "\n",
    "* We saw how Reinforcement learning is different from other forms of learning.\n",
    "\n"
   ]
  }
 ],
 "metadata": {
  "kernelspec": {
   "display_name": "Python 2",
   "language": "python",
   "name": "python2"
  },
  "language_info": {
   "codemirror_mode": {
    "name": "ipython",
    "version": 2
   },
   "file_extension": ".py",
   "mimetype": "text/x-python",
   "name": "python",
   "nbconvert_exporter": "python",
   "pygments_lexer": "ipython2",
   "version": "2.7.12"
  }
 },
 "nbformat": 4,
 "nbformat_minor": 2
}
