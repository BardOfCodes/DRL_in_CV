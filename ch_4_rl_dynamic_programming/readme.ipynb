{
 "cells": [
  {
   "cell_type": "markdown",
   "metadata": {},
   "source": [
    "# Dynamic Programming Methods"
   ]
  },
  {
   "cell_type": "markdown",
   "metadata": {},
   "source": [
    "### Reference: Chapter 4, Sutton and Barto\n",
    "\n",
    "## Contents:\n",
    "\n",
    "1) **Recap: What is Dynamic Programming?**\n",
    "\n",
    "2) **Planning by DP in MDP**\n",
    "\n",
    "3) **Iterative Policy Evaluation**\n",
    "\n",
    "4) **Policy Improvement**\n",
    "\n",
    "5) **Example: Gridworld (Policy Evaluation and Policy Improvement)**\n",
    "\n",
    "6) **Policy Iteration**\n",
    "\n",
    "7) **Value Iteration**\n",
    "\n",
    "8) **Synchronous Dynamic Programming Algorithms**\n",
    "\n",
    "9) **Asynchronous Dynamic Programming**\n",
    "\n",
    "10) **Full-Width Backups/Sample Backups**\n",
    "\n",
    "\n",
    "## Summary\n",
    "* We learnt how planning can be done given the model using-\n",
    "    * Policy Iteration\n",
    "    * Value Iteration\n",
    "   \n",
    "* We set context for next chapters: MCMC and TD-Learning because of the full-width backups and sample backups.\n",
    "\n"
   ]
  }
 ],
 "metadata": {
  "celltoolbar": "Raw Cell Format",
  "kernelspec": {
   "display_name": "Python 2",
   "language": "python",
   "name": "python2"
  },
  "language_info": {
   "codemirror_mode": {
    "name": "ipython",
    "version": 2
   },
   "file_extension": ".py",
   "mimetype": "text/x-python",
   "name": "python",
   "nbconvert_exporter": "python",
   "pygments_lexer": "ipython2",
   "version": "2.7.12"
  }
 },
 "nbformat": 4,
 "nbformat_minor": 2
}
