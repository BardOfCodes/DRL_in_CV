{
 "cells": [
  {
   "cell_type": "markdown",
   "metadata": {},
   "source": [
    "# Finite Markov Decision Processes"
   ]
  },
  {
   "cell_type": "markdown",
   "metadata": {},
   "source": [
    "### Reference: Chapter 3, Sutton and Barto"
   ]
  },
  {
   "cell_type": "markdown",
   "metadata": {},
   "source": [
    "## Contents:"
   ]
  },
  {
   "cell_type": "markdown",
   "metadata": {},
   "source": [
    "1) **Why MDPs?**\n",
    "\n",
    "2) **Markov Property**\n",
    "\n",
    "3) **Building Blocks of MDP**\n",
    "* Episodic vs Continuous Tasks\n",
    "* State Transition Matrix\n",
    "* Return\n",
    "* Discount\n",
    "* Value Function\n",
    "\n",
    "4) **MDP Parameters**\n",
    "* Policy in MDP notations\n",
    "* Value Functions in MDP notations\n",
    "\n",
    "5) **Bellman Expectation Equations**\n",
    "\n",
    "6) **Bellman Optimality Equations**\n",
    "\n"
   ]
  },
  {
   "cell_type": "markdown",
   "metadata": {},
   "source": [
    "## Summary"
   ]
  }
 ],
 "metadata": {
  "kernelspec": {
   "display_name": "Python 2",
   "language": "python",
   "name": "python2"
  },
  "language_info": {
   "codemirror_mode": {
    "name": "ipython",
    "version": 2
   },
   "file_extension": ".py",
   "mimetype": "text/x-python",
   "name": "python",
   "nbconvert_exporter": "python",
   "pygments_lexer": "ipython2",
   "version": "2.7.12"
  }
 },
 "nbformat": 4,
 "nbformat_minor": 2
}
